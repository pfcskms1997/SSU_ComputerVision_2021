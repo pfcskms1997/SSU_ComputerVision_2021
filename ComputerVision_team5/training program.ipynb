{
 "cells": [
  {
   "cell_type": "code",
   "execution_count": 169,
   "metadata": {
    "executionInfo": {
     "elapsed": 719,
     "status": "ok",
     "timestamp": 1621431442152,
     "user": {
      "displayName": "jh0 ma",
      "photoUrl": "",
      "userId": "08732908220630597703"
     },
     "user_tz": -540
    },
    "id": "w2L-r6sUeTdo"
   },
   "outputs": [],
   "source": [
    "import warnings\n",
    "warnings.filterwarnings('ignore')\n",
    "import cv2\n",
    "import numpy as np\n",
    "import os\n",
    "import matplotlib.pyplot as plt\n",
    "from sklearn.model_selection import train_test_split\n",
    "from keras.preprocessing.image import ImageDataGenerator\n",
    "from keras.utils.np_utils import to_categorical\n",
    "from keras.models import Sequential\n",
    "from keras.layers import Conv2D, Dense, MaxPooling2D, Activation, Dropout, Flatten\n",
    "from keras.optimizers import Adam"
   ]
  },
  {
   "cell_type": "code",
   "execution_count": 170,
   "metadata": {
    "colab": {
     "base_uri": "https://localhost:8080/"
    },
    "executionInfo": {
     "elapsed": 3590,
     "status": "ok",
     "timestamp": 1621431445035,
     "user": {
      "displayName": "jh0 ma",
      "photoUrl": "",
      "userId": "08732908220630597703"
     },
     "user_tz": -540
    },
    "id": "fyLtFhECedWS",
    "outputId": "aa8d8437-d9d0-4256-beb7-3bbdff1b245e"
   },
   "outputs": [
    {
     "name": "stdout",
     "output_type": "stream",
     "text": [
      "['1', '0']\n",
      "2\n",
      "Importing Classes..........\n",
      "0\n",
      "1\n"
     ]
    }
   ],
   "source": [
    "path = '/content/drive/MyDrive/Colab Notebooks/images'\n",
    "images = []\n",
    "classNo = []\n",
    "testRatio= 0.2\n",
    "valRatio=0.2\n",
    "imgDimension = (32, 32, 3)\n",
    "\n",
    "myList = os.listdir(path)\n",
    "numOfClasses=len(myList)\n",
    "\n",
    "print(myList)\n",
    "print(numOfClasses)\n",
    "\n",
    "print(\"Importing Classes..........\")\n",
    "for x in range(0, numOfClasses):\n",
    "\tmyPicList=os.listdir(path+\"/\"+str(x))\n",
    "\t# myData/0/img.jpg\n",
    "\tfor y in myPicList:\n",
    "\t\tcurImg=cv2.imread(path+\"/\"+str(x)+\"/\"+y)\n",
    "\t\tcurImg=cv2.resize(curImg,(imgDimension[0],imgDimension[1]))\n",
    "\t\timages.append(curImg)\n",
    "\t\tclassNo.append(x)\n",
    "\tprint(x)\n",
    "\n",
    "images=np.array(images) #1002개의 이미지, 32*32*3\n",
    "classNo=np.array(classNo) #해당 이미지가 0인지 1인지 구분하는것"
   ]
  },
  {
   "cell_type": "code",
   "execution_count": 171,
   "metadata": {
    "executionInfo": {
     "elapsed": 3584,
     "status": "ok",
     "timestamp": 1621431445038,
     "user": {
      "displayName": "jh0 ma",
      "photoUrl": "",
      "userId": "08732908220630597703"
     },
     "user_tz": -540
    },
    "id": "mCQwsabfjcn0"
   },
   "outputs": [],
   "source": [
    "x_train, x_test, y_train, y_test=train_test_split(images, classNo, test_size=testRatio)\n",
    "x_train, x_validation, y_train, y_validation=train_test_split(x_train, y_train, test_size=valRatio)\n",
    "\n"
   ]
  },
  {
   "cell_type": "code",
   "execution_count": 172,
   "metadata": {
    "colab": {
     "base_uri": "https://localhost:8080/",
     "height": 368
    },
    "executionInfo": {
     "elapsed": 3577,
     "status": "ok",
     "timestamp": 1621431445040,
     "user": {
      "displayName": "jh0 ma",
      "photoUrl": "",
      "userId": "08732908220630597703"
     },
     "user_tz": -540
    },
    "id": "LDwq1qXJjfpe",
    "outputId": "ab859f0a-9b91-4a85-bc66-1b034fcd4665"
   },
   "outputs": [
    {
     "name": "stdout",
     "output_type": "stream",
     "text": [
      "[320, 320]\n"
     ]
    },
    {
     "data": {
      "image/png": "[encoded data removed]",
      "text/plain": [
       "<Figure size 720x360 with 1 Axes>"
      ]
     },
     "metadata": {
      "needs_background": "light",
      "tags": []
     },
     "output_type": "display_data"
    }
   ],
   "source": [
    "numOfSample=[]\n",
    "\n",
    "for x in range(0,numOfClasses):#0<=x<2\n",
    "\tnumOfSample.append(len(np.where(y_train==x)[0])) #[0]을 넣어주면 리스트 형식으로 바뀐다.\n",
    "  #[0인 인덱스 갯수, 1인 인덱스 갯수]\n",
    " \n",
    "print(numOfSample)\n",
    "\n",
    "#데이터가 어떻게 나뉘었는지 보여주는 그래프 생성\n",
    "plt.figure(figsize=(10,5))\n",
    "plt.bar(range(0, numOfClasses),numOfSample)\n",
    "plt.title(\"Bar Plot of Classes & Images\")\n",
    "plt.xlabel(\"No Of Classes\")\n",
    "plt.ylabel(\"No of Images\")\n",
    "plt.show()\n"
   ]
  },
  {
   "cell_type": "code",
   "execution_count": 173,
   "metadata": {
    "executionInfo": {
     "elapsed": 3570,
     "status": "ok",
     "timestamp": 1621431445042,
     "user": {
      "displayName": "jh0 ma",
      "photoUrl": "",
      "userId": "08732908220630597703"
     },
     "user_tz": -540
    },
    "id": "mcYkkejYl_3q"
   },
   "outputs": [],
   "source": [
    "def preprocessing(img):\n",
    "    img=cv2.cvtColor(img, cv2.COLOR_BGR2GRAY)#컬러이미지를 그레이스케일(흑백)으로 바꿔준다.\n",
    "    img=cv2.equalizeHist(img) #히스토그램 평활화, 누적분포 함수를 이용하여 영상을 개선한다 값이 0~255사이로 바뀐다. 비율에 맞춰서\n",
    "    img=img/255 #정규화 (0~1사이의 값으로 만들어주기)\n",
    "    return img\n",
    "\n",
    "\n",
    "\n",
    "\n",
    "x_train=np.array(list(map(preprocessing, x_train))) #리스트의 모든 요소에 preprocessing 함수를 적용시킨다.\n",
    "x_test=np.array(list(map(preprocessing, x_test)))\n",
    "x_validation=np.array(list(map(preprocessing, x_validation)))\n",
    "\n",
    "# print(x_train.shape) #(640, 32, 32)\n",
    "# print(x_train)\n",
    "\n",
    "x_train=x_train.reshape(x_train.shape[0], x_train.shape[1], x_train.shape[2],1) #신경망에 적용시키기 위해 reshape\n",
    "x_test=x_test.reshape(x_test.shape[0], x_test.shape[1], x_test.shape[2],1)\n",
    "x_validation=x_validation.reshape(x_validation.shape[0], x_validation.shape[1], x_validation.shape[2],1)\n",
    "\n",
    "# print(x_train.shape) #(640, 32,32,1)\n",
    "# print(x_train)\n"
   ]
  },
  {
   "cell_type": "code",
   "execution_count": 174,
   "metadata": {
    "executionInfo": {
     "elapsed": 3565,
     "status": "ok",
     "timestamp": 1621431445043,
     "user": {
      "displayName": "jh0 ma",
      "photoUrl": "",
      "userId": "08732908220630597703"
     },
     "user_tz": -540
    },
    "id": "leEOu9ZMrnO0"
   },
   "outputs": [],
   "source": [
    "dataGen=ImageDataGenerator(\n",
    "\twidth_shift_range=0.1,\n",
    "\theight_shift_range=0.1,\n",
    "\tzoom_range=0.2,\n",
    "\tshear_range=0.1,\n",
    "\trotation_range=10)\n",
    "#더 많은 이미지를 만들기 위해 이 함수를 사용한다.\n",
    "\n",
    "dataGen.fit(x_train) #학습시키는 함수.\n",
    "\n",
    "y_train=to_categorical(y_train, numOfClasses) #one-hot 벡터로 만들어주어 학습을 할 수 있게 한다.\n",
    "y_test=to_categorical(y_test, numOfClasses)\n",
    "y_validation=to_categorical(y_validation, numOfClasses)\n"
   ]
  },
  {
   "cell_type": "code",
   "execution_count": 176,
   "metadata": {
    "colab": {
     "base_uri": "https://localhost:8080/"
    },
    "executionInfo": {
     "elapsed": 1589,
     "status": "ok",
     "timestamp": 1621431742812,
     "user": {
      "displayName": "jh0 ma",
      "photoUrl": "",
      "userId": "08732908220630597703"
     },
     "user_tz": -540
    },
    "id": "GemTPEntz7aV",
    "outputId": "df876dc4-96cd-43bf-faef-44a029ad012c"
   },
   "outputs": [
    {
     "name": "stdout",
     "output_type": "stream",
     "text": [
      "Model: \"sequential_1\"\n",
      "_________________________________________________________________\n",
      "Layer (type)                 Output Shape              Param #   \n",
      "=================================================================\n",
      "conv2d_4 (Conv2D)            (None, 30, 30, 32)        320       \n",
      "_________________________________________________________________\n",
      "conv2d_5 (Conv2D)            (None, 28, 28, 32)        9248      \n",
      "_________________________________________________________________\n",
      "max_pooling2d_2 (MaxPooling2 (None, 14, 14, 32)        0         \n",
      "_________________________________________________________________\n",
      "conv2d_6 (Conv2D)            (None, 12, 12, 64)        18496     \n",
      "_________________________________________________________________\n",
      "conv2d_7 (Conv2D)            (None, 10, 10, 64)        36928     \n",
      "_________________________________________________________________\n",
      "max_pooling2d_3 (MaxPooling2 (None, 5, 5, 64)          0         \n",
      "_________________________________________________________________\n",
      "dropout_2 (Dropout)          (None, 5, 5, 64)          0         \n",
      "_________________________________________________________________\n",
      "flatten_1 (Flatten)          (None, 1600)              0         \n",
      "_________________________________________________________________\n",
      "dense_2 (Dense)              (None, 64)                102464    \n",
      "_________________________________________________________________\n",
      "dropout_3 (Dropout)          (None, 64)                0         \n",
      "_________________________________________________________________\n",
      "dense_3 (Dense)              (None, 2)                 130       \n",
      "=================================================================\n",
      "Total params: 167,586\n",
      "Trainable params: 167,586\n",
      "Non-trainable params: 0\n",
      "_________________________________________________________________\n",
      "None\n",
      "Epoch 1/3\n",
      "  11/1000 [..............................] - ETA: 16s - loss: 0.7010 - accuracy: 0.4897WARNING:tensorflow:Your input ran out of data; interrupting training. Make sure that your dataset or generator can generate at least `steps_per_epoch * epochs` batches (in this case, 3000 batches). You may need to use the repeat() function when building your dataset.\n",
      "1000/1000 [==============================] - 1s 384us/step - loss: 0.6927 - accuracy: 0.5385 - val_loss: 0.6613 - val_accuracy: 0.9255\n"
     ]
    }
   ],
   "source": [
    "def myModel(): #신경망 모델\n",
    "\tsizeOfFilter1=(3,3)\n",
    "\tsizeOfFilter2=(3,3)\n",
    "\tsizeOfPool=(2,2)\n",
    "\n",
    "\tmodel=Sequential()#전 코드에서 reshape를 한 이유 Conv2D\n",
    "\tmodel.add((Conv2D(32, sizeOfFilter1, input_shape=(imgDimension[0],imgDimension[1],1),activation='relu')))\n",
    "\tmodel.add((Conv2D(32, sizeOfFilter1,activation='relu')))\n",
    "\tmodel.add(MaxPooling2D(pool_size=sizeOfPool))\n",
    "\n",
    "\tmodel.add((Conv2D(64, sizeOfFilter2,activation='relu')))\n",
    "\tmodel.add((Conv2D(64, sizeOfFilter2,activation='relu')))\n",
    "\tmodel.add(MaxPooling2D(pool_size=sizeOfPool))\n",
    "\tmodel.add(Dropout(0.5))\n",
    "\n",
    "\n",
    "\tmodel.add(Flatten())\n",
    "\tmodel.add(Dense(64, activation='relu'))\n",
    "\tmodel.add(Dropout(0.5))\n",
    "\tmodel.add(Dense(numOfClasses, activation='softmax'))\n",
    "\tmodel.compile(Adam(lr=0.001),loss='categorical_crossentropy',metrics=['accuracy'])\n",
    "\treturn model\n",
    "\n",
    "model=myModel()\n",
    "print(model.summary())\n",
    "\n",
    "history=model.fit_generator(dataGen.flow(x_train, y_train,batch_size=50),\n",
    "\tsteps_per_epoch=1000,\n",
    "\tepochs=3,\n",
    "\tvalidation_data=(x_validation,y_validation),\n",
    "\tshuffle=1)\n",
    "\n",
    "model.save(\"MyTrainingModel.h5\")"
   ]
  }
 ],
 "metadata": {
  "accelerator": "GPU",
  "colab": {
   "authorship_tag": "ABX9TyPb04LR+edBpyDWMArpkLWa",
   "mount_file_id": "18mjfSNGoxbKRzsMUqDB3CLOl4hMamxN_",
   "name": "training program.ipynb",
   "provenance": []
  },
  "kernelspec": {
   "display_name": "Python 3",
   "language": "python",
   "name": "python3"
  },
  "language_info": {
   "codemirror_mode": {
    "name": "ipython",
    "version": 3
   },
   "file_extension": ".py",
   "mimetype": "text/x-python",
   "name": "python",
   "nbconvert_exporter": "python",
   "pygments_lexer": "ipython3",
   "version": "3.8.3"
  }
 },
 "nbformat": 4,
 "nbformat_minor": 1
}
